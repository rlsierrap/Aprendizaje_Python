{
  "nbformat": 4,
  "nbformat_minor": 0,
  "metadata": {
    "colab": {
      "provenance": [],
      "toc_visible": true
    },
    "kernelspec": {
      "name": "python3",
      "display_name": "Python 3"
    },
    "language_info": {
      "name": "python"
    }
  },
  "cells": [
    {
      "cell_type": "code",
      "execution_count": null,
      "metadata": {
        "colab": {
          "base_uri": "https://localhost:8080/"
        },
        "id": "ySDBDSMwAEhI",
        "outputId": "07bf57ff-cc8c-4098-9f2e-0eea10b4aa0f"
      },
      "outputs": [
        {
          "output_type": "stream",
          "name": "stdout",
          "text": [
            "Hola,\tMundo!\n"
          ]
        }
      ],
      "source": [
        "print(\"Hola,\tMundo!\")\n"
      ]
    },
    {
      "cell_type": "code",
      "source": [
        "año_fabricación = 2003\n",
        "print(\"El año de fabricación del producto es: \",año_fabricación)"
      ],
      "metadata": {
        "colab": {
          "base_uri": "https://localhost:8080/"
        },
        "id": "Imu95M-JHuNY",
        "outputId": "bfd38ff1-da7e-414b-f86b-ec40ff342016"
      },
      "execution_count": null,
      "outputs": [
        {
          "output_type": "stream",
          "name": "stdout",
          "text": [
            "El año de fabricación del producto es:  2003\n"
          ]
        }
      ]
    },
    {
      "cell_type": "code",
      "source": [
        "anho_actual\t=\t2020\n",
        "anho_fabricacion\t=\t2003\n",
        "km_total\t=\t44410.0\n",
        "km_media\t=\tkm_total\t/\t(anho_actual\t-\tanho_fabricacion)\n",
        "km_media"
      ],
      "metadata": {
        "colab": {
          "base_uri": "https://localhost:8080/"
        },
        "id": "khKK3iZbS5Vk",
        "outputId": "d7543a1a-8db2-453a-8f9e-c0449d1cda00"
      },
      "execution_count": null,
      "outputs": [
        {
          "output_type": "execute_result",
          "data": {
            "text/plain": [
              "2612.3529411764707"
            ]
          },
          "metadata": {},
          "execution_count": 6
        }
      ]
    },
    {
      "cell_type": "code",
      "source": [
        "a\t=\t10\n",
        "b\t=\t20\n",
        "c\t=\t'Python es '\n",
        "d\t=\t'chévere'\n",
        "c + d"
      ],
      "metadata": {
        "colab": {
          "base_uri": "https://localhost:8080/",
          "height": 35
        },
        "id": "HIb8WpTtb9xT",
        "outputId": "0bf61549-f728-4089-fd84-bd24f97bc4d6"
      },
      "execution_count": 9,
      "outputs": [
        {
          "output_type": "execute_result",
          "data": {
            "text/plain": [
              "'Python es chévere'"
            ],
            "application/vnd.google.colaboratory.intrinsic+json": {
              "type": "string"
            }
          },
          "metadata": {},
          "execution_count": 9
        }
      ]
    },
    {
      "cell_type": "code",
      "source": [
        "str(a)"
      ],
      "metadata": {
        "colab": {
          "base_uri": "https://localhost:8080/",
          "height": 35
        },
        "id": "l7vPuOqpIKkV",
        "outputId": "5d12917e-6079-41a8-e925-cd999b64c594"
      },
      "execution_count": 10,
      "outputs": [
        {
          "output_type": "execute_result",
          "data": {
            "text/plain": [
              "'10'"
            ],
            "application/vnd.google.colaboratory.intrinsic+json": {
              "type": "string"
            }
          },
          "metadata": {},
          "execution_count": 10
        }
      ]
    },
    {
      "cell_type": "code",
      "source": [
        "c + str(a)"
      ],
      "metadata": {
        "colab": {
          "base_uri": "https://localhost:8080/",
          "height": 35
        },
        "id": "QgWKNm6XISoU",
        "outputId": "1d79964b-2acf-410f-e2af-51df103d3982"
      },
      "execution_count": 12,
      "outputs": [
        {
          "output_type": "execute_result",
          "data": {
            "text/plain": [
              "'Python es 10'"
            ],
            "application/vnd.google.colaboratory.intrinsic+json": {
              "type": "string"
            }
          },
          "metadata": {},
          "execution_count": 12
        }
      ]
    },
    {
      "cell_type": "code",
      "source": [
        "var = 3.141592\n",
        "int(var)"
      ],
      "metadata": {
        "colab": {
          "base_uri": "https://localhost:8080/"
        },
        "id": "ytIFERtXIi2m",
        "outputId": "b5806a1c-9504-4862-a84c-129a96aa0ebe"
      },
      "execution_count": 13,
      "outputs": [
        {
          "output_type": "execute_result",
          "data": {
            "text/plain": [
              "3"
            ]
          },
          "metadata": {},
          "execution_count": 13
        }
      ]
    },
    {
      "cell_type": "code",
      "source": [
        "# este es un comentario\n",
        "año_fabricación = 2020\n",
        "año_actual = 2020\n",
        "'''Estructura\tcondicional\tque\tvamos\ta\n",
        "aprender\ten\tlas\tpróximas\tclases\n",
        "'''\n",
        "if año_actual == año_fabricación:\n",
        "  print('verdadero')\n",
        "else:\n",
        "  print('falso')"
      ],
      "metadata": {
        "colab": {
          "base_uri": "https://localhost:8080/"
        },
        "id": "VcrkhT5RJFZy",
        "outputId": "8c5d6a81-5761-44a1-867f-44094e77c96e"
      },
      "execution_count": 17,
      "outputs": [
        {
          "output_type": "stream",
          "name": "stdout",
          "text": [
            "verdadero\n"
          ]
        }
      ]
    },
    {
      "cell_type": "code",
      "source": [
        "print('Hola,\t{}!'.format('Rodrigo'))"
      ],
      "metadata": {
        "colab": {
          "base_uri": "https://localhost:8080/"
        },
        "id": "rHuRwsBkL-Ri",
        "outputId": "4d4aac87-d21d-4701-ff7e-1732699d5e3d"
      },
      "execution_count": 18,
      "outputs": [
        {
          "output_type": "stream",
          "name": "stdout",
          "text": [
            "Hola,\tRodrigo!\n"
          ]
        }
      ]
    },
    {
      "cell_type": "code",
      "source": [
        "print('Hola, {}. Este es su acceso de número {}'.format('Rodrigo', 32))"
      ],
      "metadata": {
        "colab": {
          "base_uri": "https://localhost:8080/"
        },
        "id": "3Tm6nYLlMcfy",
        "outputId": "886e6a35-1d83-4d05-9b22-ba339a01f58e"
      },
      "execution_count": 20,
      "outputs": [
        {
          "output_type": "stream",
          "name": "stdout",
          "text": [
            "Hola, Rodrigo. Este es su acceso de número 32\n"
          ]
        }
      ]
    },
    {
      "cell_type": "code",
      "source": [
        "print('Hola, {nombre}. Este es su acceso de número {accesos}'.format(nombre ='Rodrigo', accesos= 32))"
      ],
      "metadata": {
        "colab": {
          "base_uri": "https://localhost:8080/"
        },
        "outputId": "7ca482a7-02f7-4dd4-e4a3-7c10e01331e5",
        "id": "Ag4oJLNUM7Z4"
      },
      "execution_count": 22,
      "outputs": [
        {
          "output_type": "stream",
          "name": "stdout",
          "text": [
            "Hola, Rodrigo. Este es su acceso de número 32\n"
          ]
        }
      ]
    }
  ]
}